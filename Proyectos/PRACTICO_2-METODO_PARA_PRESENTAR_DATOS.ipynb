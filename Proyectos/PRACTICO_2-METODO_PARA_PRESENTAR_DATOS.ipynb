{
 "cells": [
  {
   "cell_type": "markdown",
   "id": "6b15d266",
   "metadata": {},
   "source": [
    "**Métodos para representar datos**\n",
    "\n",
    "Estos son algunos ejemplos para entender e implementar metodos de representación de datos:\n",
    "\n",
    "Modelos de datos abstractos\n",
    "\n",
    "Un tipo de dato abstracto es un modelo matemático que define un conjunto de operaciones sobre los datos, sin especificar cómo se implementan.\n",
    "\n",
    "Escenario: Apilar Cuadernos para ser guardados.\n",
    "Task: Hacer un programa que apile los cuadernos.\n",
    "Append: Proceso que añade algo al final.\n",
    "Memoria LIFO"
   ]
  },
  {
   "cell_type": "code",
   "execution_count": 14,
   "id": "3c11aea0",
   "metadata": {},
   "outputs": [
    {
     "name": "stdout",
     "output_type": "stream",
     "text": [
      "Stacked notebooks: ['Notebook 1', 'Notebook 2', 'Notebook 3']\n",
      "Stacked notebooks: ['Notebook 1', 'Notebook 2']\n"
     ]
    }
   ],
   "source": [
    "# Stack of notebooks\n",
    "notebooks = []\n",
    "\n",
    "# Example\n",
    "notebooks.append(\"Notebook 1\")\n",
    "notebooks.append(\"Notebook 2\")\n",
    "notebooks.append(\"Notebook 3\")\n",
    "\n",
    "print(\"Stacked notebooks:\", notebooks)\n",
    "\n",
    "notebooks.pop()  # Removes Notebook 3\n",
    "\n",
    "print(\"Stacked notebooks:\", notebooks)"
   ]
  },
  {
   "cell_type": "markdown",
   "id": "d45a2678",
   "metadata": {},
   "source": [
    "Escenario: Fila de un supermecado.\n",
    "\n",
    "Tarea: Crear un programa que represente la fila de un supermecado.\n",
    "\n",
    "Append: Llega un nuevo cliente. Popleft: Sale un cliente (el primero en la fila)\n",
    "MEMORIA FIFO"
   ]
  },
  {
   "cell_type": "code",
   "execution_count": 15,
   "id": "9209dd70",
   "metadata": {},
   "outputs": [
    {
     "name": "stdout",
     "output_type": "stream",
     "text": [
      "Current queue: deque(['Customer 1', 'Customer 2', 'Customer 3', 'Customer 4'])\n",
      "Current queue: deque(['Customer 3', 'Customer 4'])\n"
     ]
    }
   ],
   "source": [
    "from collections import deque\n",
    "\n",
    "# Queue in a supermarket\n",
    "queue = deque()\n",
    "\n",
    "# Example\n",
    "queue.append(\"Customer 1\")\n",
    "queue.append(\"Customer 2\")\n",
    "queue.append(\"Customer 3\")\n",
    "queue.append(\"Customer 4\")\n",
    "\n",
    "print(\"Current queue:\", queue)\n",
    "\n",
    "queue.popleft()  # Customer 1 leaves\n",
    "queue.popleft()  # Customer 2 leaves\n",
    "\n",
    "print(\"Current queue:\", queue)"
   ]
  },
  {
   "cell_type": "markdown",
   "id": "21b92b9f",
   "metadata": {},
   "source": [
    "Modelos de datos estáticos\n",
    "\n",
    "Son aquellas cuya cantidad de memoria se define en tiempo de compilación y no cambia durante la ejecución.\n",
    "\n",
    "Escenario: Representar una agenda de contactos.\n",
    "\n",
    "Tarea: Crear un programa usando un diccionario para almacenar información de una agenda de contactos. Se le pedirá al usuario:\n",
    "\n",
    "Añadir nuevo contacto: Incluir nombre, número, y país. Buscar contacto: Por nombre, número o país. Mostrar contactos: De manera que tenga un formato."
   ]
  },
  {
   "cell_type": "code",
   "execution_count": 6,
   "id": "c1fdb34b",
   "metadata": {},
   "outputs": [
    {
     "name": "stdout",
     "output_type": "stream",
     "text": [
      "[{'name': 'Lucy', 'country': 'Argentina'}]\n",
      "Number: 78965412, Name: Lucy, Country: Argentina\n",
      "Number: 69874521, Name: Andrew, Country: Mexico\n"
     ]
    }
   ],
   "source": [
    "contacts = {}  # Using a dictionary\n",
    "\n",
    "def add_contact(name, number, country):\n",
    "    contacts[number] = {'name': name, 'country': country}\n",
    "\n",
    "def search_contact(search):\n",
    "    results = []\n",
    "    for number, contact_data in contacts.items():\n",
    "        if (search in contact_data['name'] or \n",
    "            search in contact_data['country'] or \n",
    "            search == number):\n",
    "            results.append(contact_data)\n",
    "    return results\n",
    "\n",
    "def show_contacts():\n",
    "    for number, contact_data in contacts.items():\n",
    "        print(f\"Number: {number}, Name: {contact_data['name']}, Country: {contact_data['country']}\")\n",
    "\n",
    "# Example with new data\n",
    "add_contact(\"Lucy\", \"78965412\", \"Argentina\")\n",
    "add_contact(\"Andrew\", \"69874521\", \"Mexico\")\n",
    "\n",
    "search_results = search_contact(\"Arg\")\n",
    "print(search_results)\n",
    "\n",
    "show_contacts()"
   ]
  },
  {
   "cell_type": "markdown",
   "id": "82e5e561",
   "metadata": {},
   "source": [
    "Modelos de datos dinámicos\n",
    "\n",
    "Estructuras que pueden crecer o reducirse durante la ejecución.\n",
    "\n",
    "Escenario: Representación de un carrito de compras.\n",
    "\n",
    "Tarea: Crear un programa que use una lista como estructura dinámica para representar un carrito de compras. El programa debe pedirle al usuario:\n",
    "\n",
    "Agregar producto: Agrega un producto al carrito. Retirar producto: Retira un producto del carrito. Ver productos: Muestra los productos que estén dentro del carrito."
   ]
  },
  {
   "cell_type": "code",
   "execution_count": 8,
   "id": "1d83363d",
   "metadata": {},
   "outputs": [
    {
     "name": "stdout",
     "output_type": "stream",
     "text": [
      "Cart initialized\n",
      "Added to cart: Pineapples\n",
      "Added to cart: Beer\n",
      "Added to cart: Milk\n",
      "Added to cart: Bread\n",
      "The cart contains: ['Pineapples', 'Beer', 'Milk', 'Bread']\n",
      "Removed from cart: Pineapples\n",
      "The cart contains: ['Beer', 'Milk', 'Bread']\n"
     ]
    }
   ],
   "source": [
    "class Cart:  # Shopping cart\n",
    "    def __init__(self):\n",
    "        self.cart = []\n",
    "        print(\"Cart initialized\")\n",
    "\n",
    "    def add(self, product):\n",
    "        self.cart.append(product)\n",
    "        print(\"Added to cart:\", product)\n",
    "\n",
    "    def remove(self, product):\n",
    "        self.cart.remove(product)\n",
    "        print(\"Removed from cart:\", product)\n",
    "\n",
    "    def view_cart(self):\n",
    "        print(\"The cart contains:\", self.cart.copy())\n",
    "\n",
    "\n",
    "# Example\n",
    "cart = Cart()\n",
    "cart.add(\"Pineapples\")\n",
    "cart.add(\"Beer\")\n",
    "cart.add(\"Milk\")\n",
    "cart.add(\"Bread\")\n",
    "\n",
    "cart.view_cart()\n",
    "\n",
    "cart.remove(\"Pineapples\")\n",
    "\n",
    "cart.view_cart()"
   ]
  },
  {
   "cell_type": "markdown",
   "id": "bba0a9bb",
   "metadata": {},
   "source": [
    "Modelos de datos persistentes\n",
    "\n",
    "Estructuras que preservan versiones anteriores cuando se modifican.\n",
    "\n",
    "Escenario: Historial de navegación web sencillo.\n",
    "\n",
    "Tarea: Crear un programa que guarde el historial de navegación usando un archivo de texto. El programa le pide usuario:\n",
    "\n",
    "Cargar historial: Carga el historial desde un archivo de texto. Guardar historial: Guarda el historial completo. Agregar sitio web: Se agrega un sitio web al historial. Eliminar sitio web: Se elimina del historial el sitio web. Mostrar historial: Muestra el historial actual."
   ]
  },
  {
   "cell_type": "code",
   "execution_count": 12,
   "id": "4e298756",
   "metadata": {},
   "outputs": [
    {
     "name": "stdout",
     "output_type": "stream",
     "text": [
      "Site 'facebook.com' added to history.\n",
      "Site 'youtube.com' added to history.\n",
      "Site 'gemini.google.com' added to history.\n",
      "\n",
      "Browsing history:\n",
      "1. google.com\n",
      "2. github.com\n",
      "3. facebook.com\n",
      "4. github.com\n",
      "5. facebook.com\n",
      "6. youtube.com\n",
      "7. gemini.google.com\n",
      "Site 'youtube.com' removed from history.\n",
      "\n",
      "Browsing history:\n",
      "1. google.com\n",
      "2. github.com\n",
      "3. facebook.com\n",
      "4. github.com\n",
      "5. facebook.com\n",
      "6. gemini.google.com\n",
      "Historial guardado en 'history.txt'.\n"
     ]
    }
   ],
   "source": [
    "# Load history from file\n",
    "def load_history(filename=\"history.txt\"):\n",
    "    history = []\n",
    "    try:\n",
    "        with open(filename, \"r\") as file:\n",
    "            for line in file:\n",
    "                history.append(line.strip())\n",
    "    except FileNotFoundError:\n",
    "        pass  # Ignore if the file does not exist\n",
    "    return history\n",
    "\n",
    "# Save history to file\n",
    "def save_history(history, filename=\"history.txt\"):\n",
    "    with open(filename, \"w\") as file:\n",
    "        for url in history:\n",
    "            file.write(url + \"\\n\")\n",
    "\n",
    "# Add website to history\n",
    "def add_site(history, url):\n",
    "    history.append(url)\n",
    "    print(f\"Site '{url}' added to history.\")\n",
    "\n",
    "# Remove website from history\n",
    "def remove_site(history, url):\n",
    "    if url in history:\n",
    "        history.remove(url)\n",
    "        print(f\"Site '{url}' removed from history.\")\n",
    "    else:\n",
    "        print(f\"Site '{url}' not found in history.\")\n",
    "\n",
    "# View full history\n",
    "def view_history(history):\n",
    "    if history:\n",
    "        print(\"\\nBrowsing history:\")\n",
    "        for index, url in enumerate(history, 1):\n",
    "            print(f\"{index}. {url}\")\n",
    "    else:\n",
    "        print(\"History is empty.\")\n",
    "\n",
    "# Example usage\n",
    "history = load_history()\n",
    "\n",
    "add_site(history, \"facebook.com\")\n",
    "add_site(history, \"youtube.com\")\n",
    "add_site(history, \"gemini.google.com\")\n",
    "\n",
    "view_history(history)\n",
    "\n",
    "remove_site(history, \"youtube.com\")\n",
    "\n",
    "view_history(history)\n",
    "\n",
    "save_history(history)\n",
    "print(\"Historial guardado en 'history.txt'.\")"
   ]
  },
  {
   "cell_type": "markdown",
   "id": "2770624f",
   "metadata": {},
   "source": [
    "Modelos de datos simulados\n",
    "\n",
    "Son representaciones de estructuras complejas usando otras más básicas.\n",
    "\n",
    "Básicamente, todos los ejemplos anteriores se consideran modelos de datos simulados, porque se usan funciones básicas para representar comportamientos más complejos dónde incluso intervienen algunos otros factores.\n",
    "\n",
    "Ejemplo de un modelo de dato simulado:\n",
    "\n",
    "Escenario: Representar a una Perro.\n",
    "\n",
    "Tarea: Crear un programa que simule de manera básica a una persona."
   ]
  },
  {
   "cell_type": "code",
   "execution_count": 13,
   "id": "8d610817",
   "metadata": {},
   "outputs": [
    {
     "name": "stdout",
     "output_type": "stream",
     "text": [
      "Buddy\n",
      "Golden Retriever\n",
      "3\n",
      "30\n",
      "Buddy is barking! Woof woof!\n",
      "Buddy sat down.\n",
      "Buddy fetched the ball.\n"
     ]
    }
   ],
   "source": [
    "class Dog:\n",
    "    def __init__(self, name, breed, age, weight):\n",
    "        self.__name = name\n",
    "        self.__breed = breed\n",
    "        self.__age = age\n",
    "        self.__weight = weight\n",
    "\n",
    "    # Properties (getters)\n",
    "    @property\n",
    "    def name(self):\n",
    "        return self.__name\n",
    "\n",
    "    @property\n",
    "    def breed(self):\n",
    "        return self.__breed\n",
    "\n",
    "    @property\n",
    "    def age(self):\n",
    "        return self.__age\n",
    "\n",
    "    @property\n",
    "    def weight(self):\n",
    "        return self.__weight\n",
    "\n",
    "    # Actions (methods)\n",
    "    def bark(self):\n",
    "        print(f\"{self.__name} is barking! Woof woof!\")\n",
    "\n",
    "    def sit(self):\n",
    "        print(f\"{self.__name} sat down.\")\n",
    "\n",
    "    def fetch(self, item):\n",
    "        print(f\"{self.__name} fetched the {item}.\")\n",
    "\n",
    "\n",
    "# Example usage\n",
    "buddy = Dog(\"Buddy\", \"Golden Retriever\", 3, 30)\n",
    "\n",
    "print(buddy.name)\n",
    "print(buddy.breed)\n",
    "print(buddy.age)\n",
    "print(buddy.weight)\n",
    "\n",
    "buddy.bark()\n",
    "buddy.sit()\n",
    "buddy.fetch(\"ball\")"
   ]
  }
 ],
 "metadata": {
  "kernelspec": {
   "display_name": "Python 3",
   "language": "python",
   "name": "python3"
  },
  "language_info": {
   "codemirror_mode": {
    "name": "ipython",
    "version": 3
   },
   "file_extension": ".py",
   "mimetype": "text/x-python",
   "name": "python",
   "nbconvert_exporter": "python",
   "pygments_lexer": "ipython3",
   "version": "3.13.0"
  }
 },
 "nbformat": 4,
 "nbformat_minor": 5
}
